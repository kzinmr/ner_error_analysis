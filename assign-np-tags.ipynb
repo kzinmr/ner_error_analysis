{
 "cells": [
  {
   "cell_type": "markdown",
   "metadata": {},
   "source": [
    "# KNP( `-bnst` )ベースのチャンキング\n",
    "\n",
    "文節内の連続する **名詞・接頭辞** に `B-NP` , `I-NP` をふる\n",
    "\n",
    "- なんのための名詞句チャンキングか\n",
    "  - キーワード抽出: 非構成的複合語の抽出\n",
    "    - 教師データ必要\n",
    "    - あるいは構成性を何らか定義する必要 (例. 構成性スコア `df(AB) / df(A)df(B)` )\n",
    "  - 品詞区切りとしての名詞句（人間の字義通りの解釈を模倣）: 形式的定義でおおよそよい\n",
    "\n",
    "- 考えられる形式的な名詞句の定義方法:\n",
    "  - 0. 長い名詞句: 修飾要素も含めると保守的にとりすぎる\n",
    "     - 「AのB」\n",
    "     - 「連体修飾節A + B」\n",
    "       - 「連体形複合辞（〜における、〜による）A + B」\n",
    "  - 1. 文節内の連続する 名詞・接頭辞・<複合←> にふる（付属語を落とす）\n",
    "     - 「AのB」「連体修飾節A + B」のような文節で区切られる名詞句が落ちる\n",
    "     - 文節で区切られる「A B」名詞句のパターンを区別できる（ 業者|各数人 ）\n",
    "     - 「バラク・オバマ」:（・: 付属語だが、<複合←> でとれる）\n",
    "\n",
    "  - 2. 文節内の連続する <内容語><準内容語><複合←> にふる\n",
    "     - 意味の弱い接頭辞・接尾辞が落ちる ( ご返事 -> 返事, 約半分 -> 半分, 加藤さん -> 加藤 )\n",
    "\n",
    "\n",
    "\n",
    "cf. 文節の定義 := {begin: <文節始> の形態素, end: <文末>形態素 または 次の <文節始> が始まる前の形態素}\n",
    "- 基本的に <接頭> （接頭辞，括弧始） が一番強い <文節始>\n",
    "- 次いで <自立> が強い <文節始>\n",
    "- 逆に <付属> は <文節始> になり得ない\n",
    "- <複合←> も <文節始> になり得ない：<接頭>・<自立> が状況的に <文節始>になり得ないことを表す\n",
    "  - Ｔ自立間連結 := 自立(→)，自立(←)にはさまれる 付属(←→)，接頭(←→)\n",
    "  - (自立／Ｔ自立間連結(→)) (自立／Ｔ自立間連結(←)) の時，後者に<複合←>を与える"
   ]
  },
  {
   "cell_type": "markdown",
   "metadata": {},
   "source": [
    "名詞\n",
    "\n",
    "接頭辞\n",
    "\n",
    "付属語\n",
    " - 助動詞\n",
    " - 接尾辞\n",
    " - 判定詞\n",
    " - 助詞\n",
    " - 特殊\n",
    "   - (句点 読点 括弧終)\n",
    "   - 各種記号\n",
    "   - (＝ ・ ＆ ― ‐ … ‥ ―― …… ー 〜)\n",
    "   - (↓ ↑ → ←)\n",
    "   - (？ ！ ♪ ★ ☆)\n",
    "   - (　)"
   ]
  },
  {
   "cell_type": "code",
   "execution_count": 1,
   "metadata": {},
   "outputs": [
    {
     "data": {
      "text/plain": [
       "29497"
      ]
     },
     "execution_count": 1,
     "metadata": {},
     "output_type": "execute_result"
    }
   ],
   "source": [
    "# 'O'以外のラベルが含まれるようにBCCWJデータをフィルタ\n",
    "\n",
    "filename = 'gsk-ene-1.1-bccwj-json-jumanpp-type/bccwj-ene-jumanpp-type.txt'\n",
    "# def dataset_reader(filename):\n",
    "with open(filename) as f:\n",
    "    txt = f.read()\n",
    "    sentences = []\n",
    "    for sentence in txt.split('\\n\\n'):\n",
    "        sentence_ = []\n",
    "        __labels = []\n",
    "        for line in sentence.split('\\n'):\n",
    "            if len(line.split(' ')) == 3:\n",
    "                surface, pos, label = line.split(' ')\n",
    "                sentence_.append({'surface': surface, 'pos': pos, 'label': label})\n",
    "                __labels.append(label)\n",
    "#             else:\n",
    "#                 print(line)\n",
    "        if sentence_ and len(set(__labels)) > 1:\n",
    "            sentences.append(sentence_)\n",
    "len(sentences)  # irex: 24750 <- 41057, type: 29497"
   ]
  },
  {
   "cell_type": "code",
   "execution_count": 24,
   "metadata": {},
   "outputs": [
    {
     "data": {
      "text/plain": [
       "[{'surface': '詰め', 'pos': '名詞', 'label': 'B-Product_Other'},\n",
       " {'surface': '将棋', 'pos': '名詞', 'label': 'I-Product_Other'},\n",
       " {'surface': 'の', 'pos': '助詞', 'label': 'O'},\n",
       " {'surface': '本', 'pos': '名詞', 'label': 'O'},\n",
       " {'surface': 'を', 'pos': '助詞', 'label': 'O'},\n",
       " {'surface': '買って', 'pos': '動詞', 'label': 'O'},\n",
       " {'surface': 'き', 'pos': '接尾辞', 'label': 'O'},\n",
       " {'surface': 'ました', 'pos': '接尾辞', 'label': 'O'},\n",
       " {'surface': '。', 'pos': '特殊', 'label': 'O'}]"
      ]
     },
     "execution_count": 24,
     "metadata": {},
     "output_type": "execute_result"
    }
   ],
   "source": [
    "sentences[0]"
   ]
  },
  {
   "cell_type": "code",
   "execution_count": 51,
   "metadata": {},
   "outputs": [
    {
     "data": {
      "text/plain": [
       "['O', 'B-NP', 'I-NP', 'I-NP', 'O', 'O', 'O', 'B-NP']"
      ]
     },
     "execution_count": 51,
     "metadata": {},
     "output_type": "execute_result"
    }
   ],
   "source": [
    "from itertools import chain\n",
    "# import pysnooper\n",
    "from pyknp import KNP\n",
    "from knp_base import KnpBase\n",
    "\n",
    "knp = KNP(jumanpp=True, option='-bnst -tab')\n",
    "knp = KnpBase(knp=KNP(jumanpp=True, option='-bnst -tab'))\n",
    "\n",
    "def is_jiritsu(mrph):\n",
    "#     print(mrph.fstring)\n",
    "    return ('<内容語>' in mrph.fstring or '<準内容語>' in mrph.fstring or '<複合←>' in mrph.fstring) and mrph.hinsi in {'名詞', '接尾辞', '接頭辞', '特殊'}\n",
    "\n",
    "def extract_jiritsu(bnst):\n",
    "    return [is_jiritsu(m) for m in bnst.mrph_list()]\n",
    "\n",
    "\n",
    "def annotate_np(blist):\n",
    "    flags = chain.from_iterable([extract_jiritsu(b) for b in blist])\n",
    "    tags = []\n",
    "    current_tag = 'O'\n",
    "    for f in flags:\n",
    "        if not f:\n",
    "            tags.append('O')\n",
    "            current_tag = 'O'\n",
    "        elif current_tag == 'O':\n",
    "            tags.append('B-NP')\n",
    "            current_tag = 'B-NP'\n",
    "        else:\n",
    "            tags.append('I-NP')\n",
    "            \n",
    "    return tags\n",
    "\n",
    "\n",
    "def annotate_np_from_tokens(tokens):\n",
    "    text = ''.join(tokens)\n",
    "    np_tags_sentence = []\n",
    "    for sentence in text.split('。'):\n",
    "        blist =knp.parse(sentence)\n",
    "        np_tags = annotate_np(blist)\n",
    "\n",
    "        np_tags_sentence.append(' '.join(np_tags))\n",
    "    np_tags = ' O '.join(np_tags_sentence)\n",
    "    if np_tags:\n",
    "        np_tags = (np_tags + ' O' if text.endswith('。') else np_tags).split(' ')\n",
    "        if len(tokens) != len(np_tags):\n",
    "            print(len(tokens), len(np_tags))\n",
    "            print( '\\n'.join(f'{token} {tag}' for token, tag in zip(tokens, np_tags)) )\n",
    "            print(text)\n",
    "    return np_tags\n",
    "\n",
    "annotate_np_from_tokens(['「', 'マイケル', '・', 'フェイ', '君', '」', 'の', '仕事'])"
   ]
  },
  {
   "cell_type": "code",
   "execution_count": null,
   "metadata": {
    "scrolled": true
   },
   "outputs": [],
   "source": [
    "for sentence in sentences:\n",
    "    tokens = [d['surface'] for d in sentence]\n",
    "    np_tags = annotate_np_from_tokens(tokens)\n",
    "    for np_tag, d in zip(np_tags, sentence):\n",
    "        d['chunk'] = np_tag\n",
    "        \n",
    "# sentences"
   ]
  },
  {
   "cell_type": "code",
   "execution_count": 40,
   "metadata": {},
   "outputs": [
    {
     "data": {
      "text/plain": [
       "'（ 金 八 先生 に 、 ジャニーズ 事務 所 の 有望 タレント が 出演 して いる 事実 は 、 ご存知 ですよね ） 。 今日 の 苗字 ランキング の 番組 で 、 実際 あった 苗字 って この 中 の どれ だった んです か ？ 七 月 一 日 \\u3000 八 月 一 日 \\u3000 九 月 一 日 \\u3000 十 月 一 日 裏 番組 に 熱中 して 見逃しちゃ い ました 。'"
      ]
     },
     "execution_count": 40,
     "metadata": {},
     "output_type": "execute_result"
    }
   ],
   "source": [
    "s = '（金八先生に、ジャニーズ事務所の有望タレントが出演している事実は、ご存知ですよね）。今日の苗字ランキングの番組で、実際あった苗字ってこの中のどれだったんですか？七月一日　八月一日　九月一日　十月一日裏番組に熱中して見逃しちゃいました。'\n",
    "knp.wakati(s)"
   ]
  }
 ],
 "metadata": {
  "kernelspec": {
   "display_name": "Python 3",
   "language": "python",
   "name": "python3"
  },
  "language_info": {
   "codemirror_mode": {
    "name": "ipython",
    "version": 3
   },
   "file_extension": ".py",
   "mimetype": "text/x-python",
   "name": "python",
   "nbconvert_exporter": "python",
   "pygments_lexer": "ipython3",
   "version": "3.7.6"
  }
 },
 "nbformat": 4,
 "nbformat_minor": 2
}
